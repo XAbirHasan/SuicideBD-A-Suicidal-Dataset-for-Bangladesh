{
  "cells": [
    {
      "cell_type": "markdown",
      "metadata": {
        "id": "KqT4pVxCFzYE"
      },
      "source": [
        "# Example to get weather information\n"
      ]
    },
    {
      "cell_type": "code",
      "execution_count": null,
      "metadata": {
        "id": "FOjYEHS0M1AZ"
      },
      "outputs": [],
      "source": [
        "import requests"
      ]
    },
    {
      "cell_type": "markdown",
      "metadata": {
        "id": "90LGDTWNZB5h"
      },
      "source": [
        "## Get weather data"
      ]
    },
    {
      "cell_type": "code",
      "execution_count": null,
      "metadata": {
        "id": "CrDCEeM1NZtx"
      },
      "outputs": [],
      "source": [
        "# api-endpoint\n",
        "# example : http://history.openweathermap.org/data/2.5/history/city?lat={lat}&lon={lon}&type=hour&start={start}&end={end}&appid={API key}\n",
        "\n",
        "# the loaction is here is Stakhira\n",
        "lat = \"22.315481\"\n",
        "lon = \"89.11145\"\n",
        "start = \"1599609600\" # IN unix time, UTC time zone (which is 9/9/20 in BDT)\n",
        "api_key = \"f9b1e9c2f5e6e96c7d776787ffbc004e\" # Use your api_key\n",
        "\n",
        "url = \"http://history.openweathermap.org/data/2.5/history/city?lat=\"+lat+\"&lon=\"+lon+\"&type=hour&start=\"+start+\"&appid=\"+api_key"
      ]
    },
    {
      "cell_type": "code",
      "execution_count": null,
      "metadata": {
        "colab": {
          "base_uri": "https://localhost:8080/"
        },
        "id": "bVcyK7RxQ4aS",
        "outputId": "2a714d1c-0614-492d-9dba-0e1b623d1cab"
      },
      "outputs": [
        {
          "name": "stdout",
          "output_type": "stream",
          "text": [
            "http://history.openweathermap.org/data/2.5/history/city?lat=22.315481&lon=89.11145&type=hour&start=1599609600&appid=f9b1e9c2f5e6e96c7d776787ffbc004e\n"
          ]
        }
      ],
      "source": [
        "print(url)"
      ]
    },
    {
      "cell_type": "code",
      "execution_count": null,
      "metadata": {
        "colab": {
          "base_uri": "https://localhost:8080/"
        },
        "id": "pjJAA6IwPmTp",
        "outputId": "50c2f738-67cb-4084-e593-5b39ecc9b3ea"
      },
      "outputs": [
        {
          "name": "stdout",
          "output_type": "stream",
          "text": [
            "200\n"
          ]
        }
      ],
      "source": [
        "# sending get request and saving the response as response object\n",
        "r = requests.get(url = url)\n",
        "print(r.status_code)"
      ]
    },
    {
      "cell_type": "code",
      "execution_count": null,
      "metadata": {
        "colab": {
          "base_uri": "https://localhost:8080/"
        },
        "id": "Wiq7DkmCP7og",
        "outputId": "586251ed-5225-44f8-b860-0e8b8408d7c3"
      },
      "outputs": [
        {
          "name": "stdout",
          "output_type": "stream",
          "text": [
            "{'message': 'Count: 24', 'cod': '200', 'city_id': 1185111, 'calctime': 0.15504979, 'cnt': 24, 'list': [{'dt': 1599609600, 'main': {'temp': 301.15, 'feels_like': 307.05, 'pressure': 1005, 'humidity': 94, 'temp_min': 301.15, 'temp_max': 301.15}, 'wind': {'speed': 2.55, 'deg': 191}, 'clouds': {'all': 40}, 'weather': [{'id': 721, 'main': 'Haze', 'description': 'haze', 'icon': '50d'}]}, {'dt': 1599613200, 'main': {'temp': 301.15, 'feels_like': 307.42, 'pressure': 1005, 'humidity': 94, 'temp_min': 301.15, 'temp_max': 301.15}, 'wind': {'speed': 2.02, 'deg': 187}, 'clouds': {'all': 75}, 'weather': [{'id': 721, 'main': 'Haze', 'description': 'haze', 'icon': '50d'}]}, {'dt': 1599616800, 'main': {'temp': 302.15, 'feels_like': 308.81, 'pressure': 1006, 'humidity': 94, 'temp_min': 302.15, 'temp_max': 302.15}, 'wind': {'speed': 2.47, 'deg': 188}, 'clouds': {'all': 75}, 'weather': [{'id': 721, 'main': 'Haze', 'description': 'haze', 'icon': '50d'}]}, {'dt': 1599620400, 'main': {'temp': 304.15, 'feels_like': 310.57, 'pressure': 1006, 'humidity': 84, 'temp_min': 304.15, 'temp_max': 304.15}, 'wind': {'speed': 2.85, 'deg': 191}, 'clouds': {'all': 75}, 'weather': [{'id': 721, 'main': 'Haze', 'description': 'haze', 'icon': '50d'}]}, {'dt': 1599624000, 'main': {'temp': 305.15, 'feels_like': 312.43, 'pressure': 1007, 'humidity': 84, 'temp_min': 305.15, 'temp_max': 305.15}, 'wind': {'speed': 2.65, 'deg': 180}, 'clouds': {'all': 75}, 'weather': [{'id': 721, 'main': 'Haze', 'description': 'haze', 'icon': '50d'}]}, {'dt': 1599627600, 'main': {'temp': 306.15, 'feels_like': 314.17, 'pressure': 1007, 'humidity': 79, 'temp_min': 306.15, 'temp_max': 306.15}, 'wind': {'speed': 1.5, 'deg': 150}, 'clouds': {'all': 75}, 'weather': [{'id': 721, 'main': 'Haze', 'description': 'haze', 'icon': '50d'}]}, {'dt': 1599631200, 'main': {'temp': 306.14, 'feels_like': 313.07, 'pressure': 1006, 'humidity': 75, 'temp_min': 305.37, 'temp_max': 307.15}, 'wind': {'speed': 2.1, 'deg': 150}, 'clouds': {'all': 75}, 'weather': [{'id': 721, 'main': 'Haze', 'description': 'haze', 'icon': '50d'}]}, {'dt': 1599634800, 'main': {'temp': 308.15, 'feels_like': 314.75, 'pressure': 1005, 'humidity': 71, 'temp_min': 308.15, 'temp_max': 308.15}, 'wind': {'speed': 3.6, 'deg': 150}, 'clouds': {'all': 75}, 'weather': [{'id': 721, 'main': 'Haze', 'description': 'haze', 'icon': '50d'}]}, {'dt': 1599638400, 'main': {'temp': 306.88, 'feels_like': 313.29, 'pressure': 1004, 'humidity': 71, 'temp_min': 305.93, 'temp_max': 308.15}, 'wind': {'speed': 2.6, 'deg': 180}, 'clouds': {'all': 75}, 'weather': [{'id': 721, 'main': 'Haze', 'description': 'haze', 'icon': '50d'}]}, {'dt': 1599642000, 'main': {'temp': 308.15, 'feels_like': 315.1, 'pressure': 1002, 'humidity': 71, 'temp_min': 308.15, 'temp_max': 308.15}, 'wind': {'speed': 3.1, 'deg': 150}, 'clouds': {'all': 75}, 'weather': [{'id': 721, 'main': 'Haze', 'description': 'haze', 'icon': '50d'}]}, {'dt': 1599645600, 'main': {'temp': 307.15, 'feels_like': 314.1, 'pressure': 1000, 'humidity': 75, 'temp_min': 307.15, 'temp_max': 307.15}, 'wind': {'speed': 3.1, 'deg': 140}, 'clouds': {'all': 75}, 'weather': [{'id': 721, 'main': 'Haze', 'description': 'haze', 'icon': '50d'}]}, {'dt': 1599649200, 'main': {'temp': 307.15, 'feels_like': 313.4, 'pressure': 1001, 'humidity': 75, 'temp_min': 307.15, 'temp_max': 307.15}, 'wind': {'speed': 4.1, 'deg': 150}, 'clouds': {'all': 75}, 'weather': [{'id': 721, 'main': 'Haze', 'description': 'haze', 'icon': '50d'}]}, {'dt': 1599652800, 'main': {'temp': 306.15, 'feels_like': 312.35, 'pressure': 1002, 'humidity': 79, 'temp_min': 306.15, 'temp_max': 306.15}, 'wind': {'speed': 4.1, 'deg': 190}, 'clouds': {'all': 75}, 'weather': [{'id': 721, 'main': 'Haze', 'description': 'haze', 'icon': '50d'}]}, {'dt': 1599656400, 'main': {'temp': 304.15, 'feels_like': 311.48, 'pressure': 1002, 'humidity': 89, 'temp_min': 304.15, 'temp_max': 304.15}, 'wind': {'speed': 2.6, 'deg': 180}, 'clouds': {'all': 75}, 'weather': [{'id': 721, 'main': 'Haze', 'description': 'haze', 'icon': '50n'}]}, {'dt': 1599660000, 'main': {'temp': 304.15, 'feels_like': 311.13, 'pressure': 1002, 'humidity': 89, 'temp_min': 304.15, 'temp_max': 304.15}, 'wind': {'speed': 3.1, 'deg': 200}, 'clouds': {'all': 75}, 'weather': [{'id': 721, 'main': 'Haze', 'description': 'haze', 'icon': '50n'}]}, {'dt': 1599663600, 'main': {'temp': 304.15, 'feels_like': 311.13, 'pressure': 1003, 'humidity': 89, 'temp_min': 304.15, 'temp_max': 304.15}, 'wind': {'speed': 3.1, 'deg': 200}, 'clouds': {'all': 75}, 'weather': [{'id': 721, 'main': 'Haze', 'description': 'haze', 'icon': '50n'}]}, {'dt': 1599667200, 'main': {'temp': 301.12, 'feels_like': 305.17, 'pressure': 1004, 'humidity': 84, 'temp_min': 301.12, 'temp_max': 301.12}, 'wind': {'speed': 3.4, 'deg': 211}, 'clouds': {'all': 70}, 'weather': [{'id': 803, 'main': 'Clouds', 'description': 'broken clouds', 'icon': '04n'}]}, {'dt': 1599670800, 'main': {'temp': 300.91, 'feels_like': 305.31, 'pressure': 1003, 'humidity': 86, 'temp_min': 300.91, 'temp_max': 300.91}, 'wind': {'speed': 3.06, 'deg': 213}, 'clouds': {'all': 75}, 'weather': [{'id': 803, 'main': 'Clouds', 'description': 'broken clouds', 'icon': '04n'}]}, {'dt': 1599674400, 'main': {'temp': 300.73, 'feels_like': 305.09, 'pressure': 1003, 'humidity': 87, 'temp_min': 300.73, 'temp_max': 300.73}, 'wind': {'speed': 3.13, 'deg': 210}, 'clouds': {'all': 80}, 'weather': [{'id': 803, 'main': 'Clouds', 'description': 'broken clouds', 'icon': '04n'}]}, {'dt': 1599678000, 'main': {'temp': 300.62, 'feels_like': 305.14, 'pressure': 1003, 'humidity': 88, 'temp_min': 300.62, 'temp_max': 300.62}, 'wind': {'speed': 2.98, 'deg': 203}, 'clouds': {'all': 100}, 'weather': [{'id': 804, 'main': 'Clouds', 'description': 'overcast clouds', 'icon': '04n'}]}, {'dt': 1599681600, 'main': {'temp': 300.48, 'feels_like': 305.08, 'pressure': 1003, 'humidity': 88, 'temp_min': 300.48, 'temp_max': 300.48}, 'wind': {'speed': 2.75, 'deg': 202}, 'clouds': {'all': 100}, 'weather': [{'id': 500, 'main': 'Rain', 'description': 'light rain', 'icon': '10n'}], 'rain': {'1h': 0.14}}, {'dt': 1599685200, 'main': {'temp': 300.36, 'feels_like': 304.99, 'pressure': 1002, 'humidity': 89, 'temp_min': 300.36, 'temp_max': 300.36}, 'wind': {'speed': 2.77, 'deg': 205}, 'clouds': {'all': 100}, 'weather': [{'id': 804, 'main': 'Clouds', 'description': 'overcast clouds', 'icon': '04n'}]}, {'dt': 1599688800, 'main': {'temp': 300.32, 'feels_like': 304.95, 'pressure': 1002, 'humidity': 89, 'temp_min': 300.32, 'temp_max': 300.32}, 'wind': {'speed': 2.73, 'deg': 202}, 'clouds': {'all': 100}, 'weather': [{'id': 500, 'main': 'Rain', 'description': 'light rain', 'icon': '10n'}], 'rain': {'1h': 0.45}}, {'dt': 1599692400, 'main': {'temp': 300.21, 'feels_like': 304.39, 'pressure': 1002, 'humidity': 89, 'temp_min': 300.21, 'temp_max': 300.21}, 'wind': {'speed': 3.28, 'deg': 189}, 'clouds': {'all': 100}, 'weather': [{'id': 501, 'main': 'Rain', 'description': 'moderate rain', 'icon': '10n'}], 'rain': {'1h': 1.18}}]}\n",
            "24\n"
          ]
        }
      ],
      "source": [
        "# extracting data in json format\n",
        "if r.status_code is 200:\n",
        "    data = r.json()\n",
        "    print(data)\n",
        "    all_data = data['list'] #inside list we have the 24hours weather result.\n",
        "    print(len(all_data))"
      ]
    },
    {
      "cell_type": "code",
      "execution_count": null,
      "metadata": {
        "colab": {
          "base_uri": "https://localhost:8080/"
        },
        "id": "LYq1VNmtSxKC",
        "outputId": "0a8edfe9-7b43-4c47-83ab-f148684b2422"
      },
      "outputs": [
        {
          "name": "stdout",
          "output_type": "stream",
          "text": [
            "{'dt': 1599609600, 'main': {'temp': 301.15, 'feels_like': 307.05, 'pressure': 1005, 'humidity': 94, 'temp_min': 301.15, 'temp_max': 301.15}, 'wind': {'speed': 2.55, 'deg': 191}, 'clouds': {'all': 40}, 'weather': [{'id': 721, 'main': 'Haze', 'description': 'haze', 'icon': '50d'}]}\n",
            "{'dt': 1599613200, 'main': {'temp': 301.15, 'feels_like': 307.42, 'pressure': 1005, 'humidity': 94, 'temp_min': 301.15, 'temp_max': 301.15}, 'wind': {'speed': 2.02, 'deg': 187}, 'clouds': {'all': 75}, 'weather': [{'id': 721, 'main': 'Haze', 'description': 'haze', 'icon': '50d'}]}\n",
            "{'dt': 1599616800, 'main': {'temp': 302.15, 'feels_like': 308.81, 'pressure': 1006, 'humidity': 94, 'temp_min': 302.15, 'temp_max': 302.15}, 'wind': {'speed': 2.47, 'deg': 188}, 'clouds': {'all': 75}, 'weather': [{'id': 721, 'main': 'Haze', 'description': 'haze', 'icon': '50d'}]}\n",
            "{'dt': 1599620400, 'main': {'temp': 304.15, 'feels_like': 310.57, 'pressure': 1006, 'humidity': 84, 'temp_min': 304.15, 'temp_max': 304.15}, 'wind': {'speed': 2.85, 'deg': 191}, 'clouds': {'all': 75}, 'weather': [{'id': 721, 'main': 'Haze', 'description': 'haze', 'icon': '50d'}]}\n",
            "{'dt': 1599624000, 'main': {'temp': 305.15, 'feels_like': 312.43, 'pressure': 1007, 'humidity': 84, 'temp_min': 305.15, 'temp_max': 305.15}, 'wind': {'speed': 2.65, 'deg': 180}, 'clouds': {'all': 75}, 'weather': [{'id': 721, 'main': 'Haze', 'description': 'haze', 'icon': '50d'}]}\n",
            "{'dt': 1599627600, 'main': {'temp': 306.15, 'feels_like': 314.17, 'pressure': 1007, 'humidity': 79, 'temp_min': 306.15, 'temp_max': 306.15}, 'wind': {'speed': 1.5, 'deg': 150}, 'clouds': {'all': 75}, 'weather': [{'id': 721, 'main': 'Haze', 'description': 'haze', 'icon': '50d'}]}\n",
            "{'dt': 1599631200, 'main': {'temp': 306.14, 'feels_like': 313.07, 'pressure': 1006, 'humidity': 75, 'temp_min': 305.37, 'temp_max': 307.15}, 'wind': {'speed': 2.1, 'deg': 150}, 'clouds': {'all': 75}, 'weather': [{'id': 721, 'main': 'Haze', 'description': 'haze', 'icon': '50d'}]}\n",
            "{'dt': 1599634800, 'main': {'temp': 308.15, 'feels_like': 314.75, 'pressure': 1005, 'humidity': 71, 'temp_min': 308.15, 'temp_max': 308.15}, 'wind': {'speed': 3.6, 'deg': 150}, 'clouds': {'all': 75}, 'weather': [{'id': 721, 'main': 'Haze', 'description': 'haze', 'icon': '50d'}]}\n",
            "{'dt': 1599638400, 'main': {'temp': 306.88, 'feels_like': 313.29, 'pressure': 1004, 'humidity': 71, 'temp_min': 305.93, 'temp_max': 308.15}, 'wind': {'speed': 2.6, 'deg': 180}, 'clouds': {'all': 75}, 'weather': [{'id': 721, 'main': 'Haze', 'description': 'haze', 'icon': '50d'}]}\n",
            "{'dt': 1599642000, 'main': {'temp': 308.15, 'feels_like': 315.1, 'pressure': 1002, 'humidity': 71, 'temp_min': 308.15, 'temp_max': 308.15}, 'wind': {'speed': 3.1, 'deg': 150}, 'clouds': {'all': 75}, 'weather': [{'id': 721, 'main': 'Haze', 'description': 'haze', 'icon': '50d'}]}\n",
            "{'dt': 1599645600, 'main': {'temp': 307.15, 'feels_like': 314.1, 'pressure': 1000, 'humidity': 75, 'temp_min': 307.15, 'temp_max': 307.15}, 'wind': {'speed': 3.1, 'deg': 140}, 'clouds': {'all': 75}, 'weather': [{'id': 721, 'main': 'Haze', 'description': 'haze', 'icon': '50d'}]}\n",
            "{'dt': 1599649200, 'main': {'temp': 307.15, 'feels_like': 313.4, 'pressure': 1001, 'humidity': 75, 'temp_min': 307.15, 'temp_max': 307.15}, 'wind': {'speed': 4.1, 'deg': 150}, 'clouds': {'all': 75}, 'weather': [{'id': 721, 'main': 'Haze', 'description': 'haze', 'icon': '50d'}]}\n",
            "{'dt': 1599652800, 'main': {'temp': 306.15, 'feels_like': 312.35, 'pressure': 1002, 'humidity': 79, 'temp_min': 306.15, 'temp_max': 306.15}, 'wind': {'speed': 4.1, 'deg': 190}, 'clouds': {'all': 75}, 'weather': [{'id': 721, 'main': 'Haze', 'description': 'haze', 'icon': '50d'}]}\n",
            "{'dt': 1599656400, 'main': {'temp': 304.15, 'feels_like': 311.48, 'pressure': 1002, 'humidity': 89, 'temp_min': 304.15, 'temp_max': 304.15}, 'wind': {'speed': 2.6, 'deg': 180}, 'clouds': {'all': 75}, 'weather': [{'id': 721, 'main': 'Haze', 'description': 'haze', 'icon': '50n'}]}\n",
            "{'dt': 1599660000, 'main': {'temp': 304.15, 'feels_like': 311.13, 'pressure': 1002, 'humidity': 89, 'temp_min': 304.15, 'temp_max': 304.15}, 'wind': {'speed': 3.1, 'deg': 200}, 'clouds': {'all': 75}, 'weather': [{'id': 721, 'main': 'Haze', 'description': 'haze', 'icon': '50n'}]}\n",
            "{'dt': 1599663600, 'main': {'temp': 304.15, 'feels_like': 311.13, 'pressure': 1003, 'humidity': 89, 'temp_min': 304.15, 'temp_max': 304.15}, 'wind': {'speed': 3.1, 'deg': 200}, 'clouds': {'all': 75}, 'weather': [{'id': 721, 'main': 'Haze', 'description': 'haze', 'icon': '50n'}]}\n",
            "{'dt': 1599667200, 'main': {'temp': 301.12, 'feels_like': 305.17, 'pressure': 1004, 'humidity': 84, 'temp_min': 301.12, 'temp_max': 301.12}, 'wind': {'speed': 3.4, 'deg': 211}, 'clouds': {'all': 70}, 'weather': [{'id': 803, 'main': 'Clouds', 'description': 'broken clouds', 'icon': '04n'}]}\n",
            "{'dt': 1599670800, 'main': {'temp': 300.91, 'feels_like': 305.31, 'pressure': 1003, 'humidity': 86, 'temp_min': 300.91, 'temp_max': 300.91}, 'wind': {'speed': 3.06, 'deg': 213}, 'clouds': {'all': 75}, 'weather': [{'id': 803, 'main': 'Clouds', 'description': 'broken clouds', 'icon': '04n'}]}\n",
            "{'dt': 1599674400, 'main': {'temp': 300.73, 'feels_like': 305.09, 'pressure': 1003, 'humidity': 87, 'temp_min': 300.73, 'temp_max': 300.73}, 'wind': {'speed': 3.13, 'deg': 210}, 'clouds': {'all': 80}, 'weather': [{'id': 803, 'main': 'Clouds', 'description': 'broken clouds', 'icon': '04n'}]}\n",
            "{'dt': 1599678000, 'main': {'temp': 300.62, 'feels_like': 305.14, 'pressure': 1003, 'humidity': 88, 'temp_min': 300.62, 'temp_max': 300.62}, 'wind': {'speed': 2.98, 'deg': 203}, 'clouds': {'all': 100}, 'weather': [{'id': 804, 'main': 'Clouds', 'description': 'overcast clouds', 'icon': '04n'}]}\n",
            "{'dt': 1599681600, 'main': {'temp': 300.48, 'feels_like': 305.08, 'pressure': 1003, 'humidity': 88, 'temp_min': 300.48, 'temp_max': 300.48}, 'wind': {'speed': 2.75, 'deg': 202}, 'clouds': {'all': 100}, 'weather': [{'id': 500, 'main': 'Rain', 'description': 'light rain', 'icon': '10n'}], 'rain': {'1h': 0.14}}\n",
            "{'dt': 1599685200, 'main': {'temp': 300.36, 'feels_like': 304.99, 'pressure': 1002, 'humidity': 89, 'temp_min': 300.36, 'temp_max': 300.36}, 'wind': {'speed': 2.77, 'deg': 205}, 'clouds': {'all': 100}, 'weather': [{'id': 804, 'main': 'Clouds', 'description': 'overcast clouds', 'icon': '04n'}]}\n",
            "{'dt': 1599688800, 'main': {'temp': 300.32, 'feels_like': 304.95, 'pressure': 1002, 'humidity': 89, 'temp_min': 300.32, 'temp_max': 300.32}, 'wind': {'speed': 2.73, 'deg': 202}, 'clouds': {'all': 100}, 'weather': [{'id': 500, 'main': 'Rain', 'description': 'light rain', 'icon': '10n'}], 'rain': {'1h': 0.45}}\n",
            "{'dt': 1599692400, 'main': {'temp': 300.21, 'feels_like': 304.39, 'pressure': 1002, 'humidity': 89, 'temp_min': 300.21, 'temp_max': 300.21}, 'wind': {'speed': 3.28, 'deg': 189}, 'clouds': {'all': 100}, 'weather': [{'id': 501, 'main': 'Rain', 'description': 'moderate rain', 'icon': '10n'}], 'rain': {'1h': 1.18}}\n"
          ]
        }
      ],
      "source": [
        "for i in range( 0, len(all_data)):\n",
        "    print(all_data[i])"
      ]
    },
    {
      "cell_type": "code",
      "execution_count": null,
      "metadata": {
        "colab": {
          "base_uri": "https://localhost:8080/"
        },
        "id": "cux4hImvRt8B",
        "outputId": "8cc9cb55-f767-4700-a88f-dedcadbf652c"
      },
      "outputs": [
        {
          "name": "stdout",
          "output_type": "stream",
          "text": [
            "Time:  0,\tTemperature:  301.15K,\tfeels_like:  307.05K,\tTemperature min:  301.15K,\tTemperature max:  301.15K,\t\tpressure:  1005hPa,\t\thumidity:  94%,\t\tWind Speed:  2.55m/s,\tWing Degree:  191°,\t\tClouds:  40%,\t\tWeather:  Haze,\tWeather description:  haze\n",
            "\n",
            "\n",
            "Time:  1,\tTemperature:  301.15K,\tfeels_like:  307.42K,\tTemperature min:  301.15K,\tTemperature max:  301.15K,\t\tpressure:  1005hPa,\t\thumidity:  94%,\t\tWind Speed:  2.02m/s,\tWing Degree:  187°,\t\tClouds:  75%,\t\tWeather:  Haze,\tWeather description:  haze\n",
            "\n",
            "\n",
            "Time:  2,\tTemperature:  302.15K,\tfeels_like:  308.81K,\tTemperature min:  302.15K,\tTemperature max:  302.15K,\t\tpressure:  1006hPa,\t\thumidity:  94%,\t\tWind Speed:  2.47m/s,\tWing Degree:  188°,\t\tClouds:  75%,\t\tWeather:  Haze,\tWeather description:  haze\n",
            "\n",
            "\n",
            "Time:  3,\tTemperature:  304.15K,\tfeels_like:  310.57K,\tTemperature min:  304.15K,\tTemperature max:  304.15K,\t\tpressure:  1006hPa,\t\thumidity:  84%,\t\tWind Speed:  2.85m/s,\tWing Degree:  191°,\t\tClouds:  75%,\t\tWeather:  Haze,\tWeather description:  haze\n",
            "\n",
            "\n",
            "Time:  4,\tTemperature:  305.15K,\tfeels_like:  312.43K,\tTemperature min:  305.15K,\tTemperature max:  305.15K,\t\tpressure:  1007hPa,\t\thumidity:  84%,\t\tWind Speed:  2.65m/s,\tWing Degree:  180°,\t\tClouds:  75%,\t\tWeather:  Haze,\tWeather description:  haze\n",
            "\n",
            "\n",
            "Time:  5,\tTemperature:  306.15K,\tfeels_like:  314.17K,\tTemperature min:  306.15K,\tTemperature max:  306.15K,\t\tpressure:  1007hPa,\t\thumidity:  79%,\t\tWind Speed:  1.5m/s,\tWing Degree:  150°,\t\tClouds:  75%,\t\tWeather:  Haze,\tWeather description:  haze\n",
            "\n",
            "\n",
            "Time:  6,\tTemperature:  306.14K,\tfeels_like:  313.07K,\tTemperature min:  305.37K,\tTemperature max:  307.15K,\t\tpressure:  1006hPa,\t\thumidity:  75%,\t\tWind Speed:  2.1m/s,\tWing Degree:  150°,\t\tClouds:  75%,\t\tWeather:  Haze,\tWeather description:  haze\n",
            "\n",
            "\n",
            "Time:  7,\tTemperature:  308.15K,\tfeels_like:  314.75K,\tTemperature min:  308.15K,\tTemperature max:  308.15K,\t\tpressure:  1005hPa,\t\thumidity:  71%,\t\tWind Speed:  3.6m/s,\tWing Degree:  150°,\t\tClouds:  75%,\t\tWeather:  Haze,\tWeather description:  haze\n",
            "\n",
            "\n",
            "Time:  8,\tTemperature:  306.88K,\tfeels_like:  313.29K,\tTemperature min:  305.93K,\tTemperature max:  308.15K,\t\tpressure:  1004hPa,\t\thumidity:  71%,\t\tWind Speed:  2.6m/s,\tWing Degree:  180°,\t\tClouds:  75%,\t\tWeather:  Haze,\tWeather description:  haze\n",
            "\n",
            "\n",
            "Time:  9,\tTemperature:  308.15K,\tfeels_like:  315.1K,\tTemperature min:  308.15K,\tTemperature max:  308.15K,\t\tpressure:  1002hPa,\t\thumidity:  71%,\t\tWind Speed:  3.1m/s,\tWing Degree:  150°,\t\tClouds:  75%,\t\tWeather:  Haze,\tWeather description:  haze\n",
            "\n",
            "\n",
            "Time:  10,\tTemperature:  307.15K,\tfeels_like:  314.1K,\tTemperature min:  307.15K,\tTemperature max:  307.15K,\t\tpressure:  1000hPa,\t\thumidity:  75%,\t\tWind Speed:  3.1m/s,\tWing Degree:  140°,\t\tClouds:  75%,\t\tWeather:  Haze,\tWeather description:  haze\n",
            "\n",
            "\n",
            "Time:  11,\tTemperature:  307.15K,\tfeels_like:  313.4K,\tTemperature min:  307.15K,\tTemperature max:  307.15K,\t\tpressure:  1001hPa,\t\thumidity:  75%,\t\tWind Speed:  4.1m/s,\tWing Degree:  150°,\t\tClouds:  75%,\t\tWeather:  Haze,\tWeather description:  haze\n",
            "\n",
            "\n",
            "Time:  12,\tTemperature:  306.15K,\tfeels_like:  312.35K,\tTemperature min:  306.15K,\tTemperature max:  306.15K,\t\tpressure:  1002hPa,\t\thumidity:  79%,\t\tWind Speed:  4.1m/s,\tWing Degree:  190°,\t\tClouds:  75%,\t\tWeather:  Haze,\tWeather description:  haze\n",
            "\n",
            "\n",
            "Time:  13,\tTemperature:  304.15K,\tfeels_like:  311.48K,\tTemperature min:  304.15K,\tTemperature max:  304.15K,\t\tpressure:  1002hPa,\t\thumidity:  89%,\t\tWind Speed:  2.6m/s,\tWing Degree:  180°,\t\tClouds:  75%,\t\tWeather:  Haze,\tWeather description:  haze\n",
            "\n",
            "\n",
            "Time:  14,\tTemperature:  304.15K,\tfeels_like:  311.13K,\tTemperature min:  304.15K,\tTemperature max:  304.15K,\t\tpressure:  1002hPa,\t\thumidity:  89%,\t\tWind Speed:  3.1m/s,\tWing Degree:  200°,\t\tClouds:  75%,\t\tWeather:  Haze,\tWeather description:  haze\n",
            "\n",
            "\n",
            "Time:  15,\tTemperature:  304.15K,\tfeels_like:  311.13K,\tTemperature min:  304.15K,\tTemperature max:  304.15K,\t\tpressure:  1003hPa,\t\thumidity:  89%,\t\tWind Speed:  3.1m/s,\tWing Degree:  200°,\t\tClouds:  75%,\t\tWeather:  Haze,\tWeather description:  haze\n",
            "\n",
            "\n",
            "Time:  16,\tTemperature:  301.12K,\tfeels_like:  305.17K,\tTemperature min:  301.12K,\tTemperature max:  301.12K,\t\tpressure:  1004hPa,\t\thumidity:  84%,\t\tWind Speed:  3.4m/s,\tWing Degree:  211°,\t\tClouds:  70%,\t\tWeather:  Clouds,\tWeather description:  broken clouds\n",
            "\n",
            "\n",
            "Time:  17,\tTemperature:  300.91K,\tfeels_like:  305.31K,\tTemperature min:  300.91K,\tTemperature max:  300.91K,\t\tpressure:  1003hPa,\t\thumidity:  86%,\t\tWind Speed:  3.06m/s,\tWing Degree:  213°,\t\tClouds:  75%,\t\tWeather:  Clouds,\tWeather description:  broken clouds\n",
            "\n",
            "\n",
            "Time:  18,\tTemperature:  300.73K,\tfeels_like:  305.09K,\tTemperature min:  300.73K,\tTemperature max:  300.73K,\t\tpressure:  1003hPa,\t\thumidity:  87%,\t\tWind Speed:  3.13m/s,\tWing Degree:  210°,\t\tClouds:  80%,\t\tWeather:  Clouds,\tWeather description:  broken clouds\n",
            "\n",
            "\n",
            "Time:  19,\tTemperature:  300.62K,\tfeels_like:  305.14K,\tTemperature min:  300.62K,\tTemperature max:  300.62K,\t\tpressure:  1003hPa,\t\thumidity:  88%,\t\tWind Speed:  2.98m/s,\tWing Degree:  203°,\t\tClouds:  100%,\t\tWeather:  Clouds,\tWeather description:  overcast clouds\n",
            "\n",
            "\n",
            "Time:  20,\tTemperature:  300.48K,\tfeels_like:  305.08K,\tTemperature min:  300.48K,\tTemperature max:  300.48K,\t\tpressure:  1003hPa,\t\thumidity:  88%,\t\tWind Speed:  2.75m/s,\tWing Degree:  202°,\t\tClouds:  100%,\t\tWeather:  Rain,\tWeather description:  light rain\n",
            "\n",
            "\n",
            "Time:  21,\tTemperature:  300.36K,\tfeels_like:  304.99K,\tTemperature min:  300.36K,\tTemperature max:  300.36K,\t\tpressure:  1002hPa,\t\thumidity:  89%,\t\tWind Speed:  2.77m/s,\tWing Degree:  205°,\t\tClouds:  100%,\t\tWeather:  Clouds,\tWeather description:  overcast clouds\n",
            "\n",
            "\n",
            "Time:  22,\tTemperature:  300.32K,\tfeels_like:  304.95K,\tTemperature min:  300.32K,\tTemperature max:  300.32K,\t\tpressure:  1002hPa,\t\thumidity:  89%,\t\tWind Speed:  2.73m/s,\tWing Degree:  202°,\t\tClouds:  100%,\t\tWeather:  Rain,\tWeather description:  light rain\n",
            "\n",
            "\n",
            "Time:  23,\tTemperature:  300.21K,\tfeels_like:  304.39K,\tTemperature min:  300.21K,\tTemperature max:  300.21K,\t\tpressure:  1002hPa,\t\thumidity:  89%,\t\tWind Speed:  3.28m/s,\tWing Degree:  189°,\t\tClouds:  100%,\t\tWeather:  Rain,\tWeather description:  moderate rain\n",
            "\n",
            "\n"
          ]
        }
      ],
      "source": [
        "for i in range( 0, len(all_data)):\n",
        "    print(\"Time: \", i, end = \",\\t\")\n",
        "    print(\"Temperature: \",all_data[i]['main']['temp'], end = \"K,\\t\")\n",
        "    print(\"feels_like: \",all_data[i]['main']['feels_like'], end = \"K,\\t\")\n",
        "    print(\"Temperature min: \",all_data[i]['main']['temp_min'], end = \"K,\\t\")\n",
        "    print(\"Temperature max: \",all_data[i]['main']['temp_max'], end = \"K,\\t\\t\")\n",
        "\n",
        "    print(\"pressure: \",all_data[i]['main']['pressure'], end = \"hPa,\\t\\t\")\n",
        "    print(\"humidity: \",all_data[i]['main']['humidity'], end = \"%,\\t\\t\")\n",
        "\n",
        "    print(\"Wind Speed: \",all_data[i]['wind']['speed'], end = \"m/s,\\t\")\n",
        "    print(\"Wing Degree: \",all_data[i]['wind']['deg'], end = \"°,\\t\\t\")\n",
        "\n",
        "    print(\"Clouds: \",all_data[i]['clouds']['all'], end = \"%,\\t\\t\")\n",
        "\n",
        "    print(\"Weather: \",all_data[i]['weather'][0][\"main\"], end = \",\\t\")\n",
        "    print(\"Weather description: \",all_data[i]['weather'][0][\"description\"], end = \"\")\n",
        "    print(\"\\n\\n\")"
      ]
    },
    {
      "cell_type": "markdown",
      "metadata": {
        "id": "fnJAhqneYVUC"
      },
      "source": [
        "## Just 1 data showing here"
      ]
    },
    {
      "cell_type": "code",
      "execution_count": null,
      "metadata": {
        "colab": {
          "base_uri": "https://localhost:8080/"
        },
        "id": "ziPciF1xYYq2",
        "outputId": "92b1f104-1449-47f7-f052-8a123c4bdf80"
      },
      "outputs": [
        {
          "name": "stdout",
          "output_type": "stream",
          "text": [
            "Time:  0,\tTemperature:  301.15K,\tfeels_like:  307.05K,\tTemperature min:  301.15K,\tTemperature max:  301.15K,\t\tpressure:  1005hPa,\t\thumidity:  94%,\t\tWind Speed:  2.55m/s,\tWing Degree:  191°,\t\tClouds:  40%,\t\tWeather:  Haze,\tWeather description:  haze\n",
            "\n",
            "\n"
          ]
        }
      ],
      "source": [
        "for i in range( 0, 1):\n",
        "    print(\"Time: \", i, end = \",\\t\")\n",
        "    print(\"Temperature: \",all_data[i]['main']['temp'], end = \"K,\\t\")\n",
        "    print(\"feels_like: \",all_data[i]['main']['feels_like'], end = \"K,\\t\")\n",
        "    print(\"Temperature min: \",all_data[i]['main']['temp_min'], end = \"K,\\t\")\n",
        "    print(\"Temperature max: \",all_data[i]['main']['temp_max'], end = \"K,\\t\\t\")\n",
        "\n",
        "    print(\"pressure: \",all_data[i]['main']['pressure'], end = \"hPa,\\t\\t\")\n",
        "    print(\"humidity: \",all_data[i]['main']['humidity'], end = \"%,\\t\\t\")\n",
        "\n",
        "    print(\"Wind Speed: \",all_data[i]['wind']['speed'], end = \"m/s,\\t\")\n",
        "    print(\"Wing Degree: \",all_data[i]['wind']['deg'], end = \"°,\\t\\t\")\n",
        "\n",
        "    print(\"Clouds: \",all_data[i]['clouds']['all'], end = \"%,\\t\\t\")\n",
        "\n",
        "    print(\"Weather: \",all_data[i]['weather'][0][\"main\"], end = \",\\t\")\n",
        "    print(\"Weather description: \",all_data[i]['weather'][0][\"description\"], end = \"\")\n",
        "    print(\"\\n\\n\")"
      ]
    }
  ],
  "metadata": {
    "colab": {
      "collapsed_sections": [],
      "name": "Weather info.ipynb",
      "provenance": []
    },
    "kernelspec": {
      "display_name": "Python 3",
      "name": "python3"
    },
    "language_info": {
      "name": "python"
    }
  },
  "nbformat": 4,
  "nbformat_minor": 0
}
